{
 "cells": [
  {
   "cell_type": "code",
   "execution_count": 1,
   "metadata": {},
   "outputs": [
    {
     "data": {
      "text/plain": [
       "(124800, 28, 28)"
      ]
     },
     "execution_count": 1,
     "metadata": {},
     "output_type": "execute_result"
    }
   ],
   "source": [
    "from emnist import extract_training_samples\n",
    "images, labels = extract_training_samples('letters')\n",
    "images.shape\n"
   ]
  },
  {
   "cell_type": "code",
   "execution_count": null,
   "metadata": {},
   "outputs": [],
   "source": [
    "##Convert all images to .jpg format and saved in a folder.\n",
    "from PIL import Image\n",
    "import numpy as np\n",
    "import os\n",
    "import cv2\n",
    "def gen_image(arr):\n",
    "    two_d = np.reshape(arr, (28, 28))\n",
    "    img = Image.fromarray(two_d, 'L')\n",
    "    return img\n",
    "save_train_dir = './train_images/'\n",
    "if not os.path.exists(save_train_dir):\n",
    "        os.makedirs(save_train_dir)\n",
    "for i in range(len(images)):\n",
    "#     image_list = [int(item) for item in image_file[i * 784: i*784+784]] # Convert binary data to decimal\n",
    "    image_array = np.array(images[i],dtype=np.uint8).reshape(28,28,1)\n",
    "    label_name = labels[i]\n",
    "    image_name = os.path.join(save_train_dir,str(i+1)+'_'+str(label_name)+'.jpg')\n",
    "#     print(image_name)\n",
    "    cv2.imwrite(image_name,image_array)\n",
    "    pass\n",
    "print(os.listdir(save_train_dir))\n",
    "    \n"
   ]
  },
  {
   "cell_type": "code",
   "execution_count": 2,
   "metadata": {},
   "outputs": [
    {
     "name": "stdout",
     "output_type": "stream",
     "text": [
      "<PIL.Image.Image image mode=RGB size=784x1 at 0x1F4DD39D908> 12\n"
     ]
    }
   ],
   "source": [
    "# Convert all images stored in the local to a sprie sheet. \n",
    "from pathlib import Path\n",
    "from PIL import Image\n",
    "import numpy as np\n",
    "\n",
    "# Constants\n",
    "TRAINING_PATH = \"./train_images/\"\n",
    "SPRITE_SIZE = 28\n",
    "\n",
    "# Initialization\n",
    "x_data = []\n",
    "y_data = []\n",
    "final_image = np.array([])\n",
    "y_offset = 0\n",
    "new_im = Image.new('RGB', (SPRITE_SIZE*SPRITE_SIZE, 124800))\n",
    "\n",
    "# Load the training sprite by looping over every image file\n",
    "for image_file in Path(TRAINING_PATH).glob(\"**/*.jpg\"):\n",
    "\n",
    "    # Load the current image file\n",
    "    src_image = Image.open(image_file)\n",
    "    # make it smaller\n",
    "    downsized = src_image.resize((SPRITE_SIZE,SPRITE_SIZE)) \n",
    "\n",
    "    # get 1px high version\n",
    "    pixels = list(downsized.getdata())\n",
    "    smoosh = Image.new('RGB', (SPRITE_SIZE * SPRITE_SIZE, 1))\n",
    "    smoosh.putdata(pixels)\n",
    "\n",
    "    # store image\n",
    "    x_data.append(smoosh)\n",
    "\n",
    "    # Use image path to build our answer key\n",
    "    y_data.append(image_file.stem.split('_')[1])\n",
    "print(x_data[0],y_data[0])\n",
    "   \n",
    "# Now randomize X and Y the same way before making data\n",
    "# (the JS code splits then randomizes) DERP!!!\n",
    "assert len(y_data) == len(x_data)\n",
    "p = np.random.permutation(len(y_data))\n",
    "npy = np.array(y_data)\n",
    "shuffled_y = npy[p].tolist()\n",
    "\n",
    "one_hot_y = []\n",
    "# Build the data image and 1-hot encoded answer array\n",
    "for idx in p:\n",
    "    # build master sprite 1 pixel down at a time\n",
    "    new_im.paste(x_data[idx], (0, y_offset))\n",
    "    # build 1-hot encoded answer key\n",
    "    for i in range(26):\n",
    "        if shuffled_y[y_offset] == str(i+1):\n",
    "            one_hot_y.append(1)\n",
    "        else:\n",
    "            one_hot_y.append(0)\n",
    "    y_offset += 1        \n",
    "\n",
    "\n",
    "# Save answers file (Y)\n",
    "newFile = open(\"labels_img\", \"wb\")\n",
    "newFileByteArray = bytearray(one_hot_y)\n",
    "bytesWritte = newFile.write(newFileByteArray)\n",
    "# should be num classes * original answer key size\n",
    "assert bytesWritte == (26 * len(y_data))\n",
    "\n",
    "# Save Data Sprite (X)\n",
    "new_im.save('data_img.png')\n"
   ]
  }
 ],
 "metadata": {
  "kernelspec": {
   "display_name": "Python 3",
   "language": "python",
   "name": "python3"
  },
  "language_info": {
   "codemirror_mode": {
    "name": "ipython",
    "version": 3
   },
   "file_extension": ".py",
   "mimetype": "text/x-python",
   "name": "python",
   "nbconvert_exporter": "python",
   "pygments_lexer": "ipython3",
   "version": "3.7.1"
  }
 },
 "nbformat": 4,
 "nbformat_minor": 4
}
